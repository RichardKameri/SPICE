{
  "nbformat": 4,
  "nbformat_minor": 0,
  "metadata": {
    "colab": {
      "provenance": [],
      "authorship_tag": "ABX9TyOYMEDKCNrsu5zJm5oQYn3R",
      "include_colab_link": true
    },
    "kernelspec": {
      "name": "python3",
      "display_name": "Python 3"
    },
    "language_info": {
      "name": "python"
    }
  },
  "cells": [
    {
      "cell_type": "markdown",
      "metadata": {
        "id": "view-in-github",
        "colab_type": "text"
      },
      "source": [
        "<a href=\"https://colab.research.google.com/github/RichardKameri/SPICE/blob/main/webscraper.ipynb\" target=\"_parent\"><img src=\"https://colab.research.google.com/assets/colab-badge.svg\" alt=\"Open In Colab\"/></a>"
      ]
    },
    {
      "cell_type": "code",
      "source": [
        "import requests\n",
        "from bs4 import BeautifulSoup\n",
        "\n",
        "url = \"https://www.airlinequality.com/airline-reviews/kenya-airways/\"\n",
        "\n",
        "# Send a GET request to the URL\n",
        "response = requests.get(url)\n",
        "\n",
        "# Parse the HTML content using BeautifulSoup\n",
        "soup = BeautifulSoup(response.content, \"html.parser\")\n",
        "\n",
        "# Find and print all review titles\n",
        "review_titles = soup.find_all(\"h2\", class_=\"text_header\")\n",
        "for title in review_titles:\n",
        "    print(title.get_text())"
      ],
      "metadata": {
        "colab": {
          "base_uri": "https://localhost:8080/"
        },
        "id": "a6k81p4iO_55",
        "outputId": "766ed62f-27e1-4ec1-81f2-3b1d116859a3"
      },
      "execution_count": 2,
      "outputs": [
        {
          "output_type": "stream",
          "name": "stdout",
          "text": [
            "“What a horrible experience”\n",
            "\"Terrible experience\"\n",
            "“air circulation was so poor”\n",
            "\"Worst airline I've ever dealt with\"\n",
            "\"fighting for less than $280\"\n",
            "\"an absolute nightmare\"\n",
            "\"granting her access to their contract Pearl lounge\"\n",
            "“appalled by the state of the aeroplane”\n",
            "\"Think twice before booking.\"\n",
            "\"Poor customer service and training.\"\n",
            "World’s Best Airlines in 2024\n",
            "World’s Best Airports in 2024\n",
            "THE BEST AIRLINE CABIN CREW\n",
            "Kenya Airways Photos\n"
          ]
        }
      ]
    }
  ]
}